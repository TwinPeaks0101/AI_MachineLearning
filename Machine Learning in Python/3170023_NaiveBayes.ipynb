{
 "cells": [
  {
   "cell_type": "code",
   "execution_count": 1,
   "id": "d63bcfd9-a466-478d-9a37-72a3497883b2",
   "metadata": {},
   "outputs": [],
   "source": [
    "import numpy as np\n",
    "from tensorflow.keras.datasets import imdb\n",
    "from sklearn.feature_selection import mutual_info_classif\n",
    "from sklearn.model_selection import train_test_split\n",
    "\n",
    "from collections import defaultdict\n",
    "from sklearn.utils import resample\n",
    "\n",
    "from sklearn.metrics import accuracy_score, precision_score, recall_score, f1_score"
   ]
  },
  {
   "cell_type": "markdown",
   "id": "405b8de3-6735-4cbd-970f-46d592f029ad",
   "metadata": {},
   "source": [
    "<h4 style=color:blue> Load IMDB dataset & word index</h4>"
   ]
  },
  {
   "cell_type": "code",
   "execution_count": 3,
   "id": "0379a533-3d32-4a9d-9ec0-7d7a6dc00c51",
   "metadata": {},
   "outputs": [],
   "source": [
    "#Remove early the least frequent words to prevent memory overflow\n",
    "num_words = 20000 #keep top 20000 words\n",
    "(x_train_full, y_train_full), (x_test, y_test) = imdb.load_data(num_words=num_words)\n",
    "\n",
    "# Split the full training data into training and development sets\n",
    "x_train, x_dev, y_train, y_dev = train_test_split(x_train_full, y_train_full, test_size=0.2, random_state=42)\n",
    "\n",
    "\n",
    "word_index = imdb.get_word_index()\n",
    "reverse_word_index = {index + 3: word for word, index in word_index.items()}\n",
    "reverse_word_index[0], reverse_word_index[1], reverse_word_index[2], reverse_word_index[3] = \"<PAD>\", \"<START>\", \"<UNK>\", \"<UNUSED>\""
   ]
  },
  {
   "cell_type": "code",
   "execution_count": 6,
   "id": "03fdf9bb-d67e-42d1-91bf-dc94451ab75d",
   "metadata": {},
   "outputs": [],
   "source": [
    "# Convert encoded review into a set of unique words. If i equals 1 its the <START> token so i need to skip it,\n",
    "#i don't want to affect the classifier\n",
    "def decode_review(encoded_review):\n",
    "    return set(reverse_word_index.get(i, \"<UNK>\") for i in encoded_review if i>2)\n",
    "\n",
    "x_train_words = [decode_review(review) for review in x_train]\n",
    "x_dev_words = [decode_review(review) for review in x_dev]\n",
    "x_test_words = [decode_review(review) for review in x_test]"
   ]
  },
  {
   "cell_type": "code",
   "execution_count": 8,
   "id": "b7e83aad-7dcb-4f65-951f-ed8ca837fe0b",
   "metadata": {},
   "outputs": [],
   "source": [
    "def create_binary_feature_matrix(reviews, vocabulary):\n",
    "    return [[1 if word in review else 0 for word in vocabulary] for review in reviews]"
   ]
  },
  {
   "cell_type": "markdown",
   "id": "c521945b-8702-4015-bfde-344c9213bb9d",
   "metadata": {},
   "source": [
    "<h4 style=color:blue>Build vocabulary</h4>"
   ]
  },
  {
   "cell_type": "code",
   "execution_count": 11,
   "id": "9a65c135-dcfe-41d4-94d7-60e16851ac18",
   "metadata": {},
   "outputs": [],
   "source": [
    "def build_vocabulary(x_train_words,y_train, n, k, m):\n",
    "    #Calculate word frequencies\n",
    "    word_freq = defaultdict(int)\n",
    "    for review in x_train_words:\n",
    "        for word in review:\n",
    "            word_freq[word] += 1\n",
    "\n",
    "    \n",
    "    #Remove n most frequent and k least frequent words\n",
    "    sorted_words = sorted(word_freq.keys(), key=lambda x: word_freq[x], reverse=True)\n",
    "    filtered_words = sorted_words[n:-k] if k > 0 else sorted_words[n:]\n",
    "\n",
    "    top_words = sorted(word_freq.keys(), key=lambda x: word_freq[x], reverse=True)\n",
    "    filtered_words = [word for word in filtered_words if word in top_words]\n",
    "    \n",
    "    X_train_binary = create_binary_feature_matrix(x_train_words, filtered_words)\n",
    "    X_train_binary_array = np.array(X_train_binary, dtype=np.int8)\n",
    "\n",
    "    #Mutual information for feature selection\n",
    "    mi_scores = mutual_info_classif(X_train_binary_array, y_train)\n",
    "\n",
    "    #Dictionary of words and their mutual information scores\n",
    "    word_mi_scores = {word: score for word, score in zip(filtered_words, mi_scores)}\n",
    "    #Select the top m words with the highest mutual information\n",
    "    sorted_words_by_mi = sorted(word_mi_scores.keys(), key=lambda x: word_mi_scores[x], reverse=True)\n",
    "    selected_vocabulary = sorted_words_by_mi[:m]\n",
    "    \n",
    "    return selected_vocabulary\n",
    "    "
   ]
  },
  {
   "cell_type": "code",
   "execution_count": 13,
   "id": "3f8798e5-dcbe-4366-916f-c7d6ddde2b4b",
   "metadata": {},
   "outputs": [],
   "source": [
    "class MultivariateBernoulliNB:\n",
    "    def __init__(self):\n",
    "        self.class_log_prior_ = None\n",
    "        self.feature_log_prob_ = None\n",
    "\n",
    "    def fit(self, X, y):\n",
    "        n_samples, n_features = X.shape\n",
    "        self.classes_ = np.unique(y)\n",
    "        n_classes = len(self.classes_)\n",
    "\n",
    "        # Calculate class log priors\n",
    "        self.class_log_prior_ = np.zeros(n_classes)\n",
    "        for i, c in enumerate(self.classes_):\n",
    "            self.class_log_prior_[i] = np.log(np.sum(y == c) / n_samples)\n",
    "\n",
    "        # Calculate feature log probabilities\n",
    "        self.feature_log_prob_ = np.zeros((n_classes, n_features))\n",
    "        for i, c in enumerate(self.classes_):\n",
    "            X_c = X[y == c]\n",
    "            self.feature_log_prob_[i, :] = np.log((np.sum(X_c, axis=0) + 1) / (np.sum(X_c) + n_features))\n",
    "\n",
    "    def predict(self, X):\n",
    "        return self.classes_[np.argmax(self.predict_log_proba(X), axis=1)]\n",
    "\n",
    "    def predict_log_proba(self, X):\n",
    "        return (X @ self.feature_log_prob_.T) + self.class_log_prior_\n"
   ]
  },
  {
   "cell_type": "markdown",
   "id": "472f55ef-60b6-4fef-9086-833ac18aa66c",
   "metadata": {},
   "source": [
    "Training - Validation - Testing"
   ]
  },
  {
   "cell_type": "code",
   "execution_count": 22,
   "id": "cb09cafe-eaaf-469c-90d1-c2889bbdbf7e",
   "metadata": {},
   "outputs": [],
   "source": [
    "from sklearn.metrics import accuracy_score, precision_score, recall_score, f1_score, classification_report\n",
    "def train_dev_loop(x_train_words, y_train, x_dev_words, y_dev, m_values, n_values, k_values, train_sizes):\n",
    "    best_f1 = 0\n",
    "    best_metrics = {\"train_precision\": [], \"train_recall\": [], \"train_f1\": [], \"dev_precision\": [], \"dev_recall\": [], \"dev_f1\": []}\n",
    "\n",
    "    # Lists to store metrics for learning curves\n",
    "    train_precision, train_recall, train_f1 = [], [], []\n",
    "    dev_precision, dev_recall, dev_f1 = [], [], []\n",
    "\n",
    "    for m in m_values:\n",
    "        for n in n_values:\n",
    "            for k in k_values:\n",
    "                print(f\"Testing m={m}, n={n}, k={k}\")\n",
    "\n",
    "                vocabulary = build_vocabulary(x_train_words,y_train, n, k, m)\n",
    "\n",
    "                X_train_features = create_binary_feature_matrix(x_train_words, vocabulary)\n",
    "                X_dev_features = create_binary_feature_matrix(x_dev_words, vocabulary)\n",
    "\n",
    "                for size in train_sizes:\n",
    "                    #i+=1\n",
    "                    n_samples = int(size* len(x_train_words))\n",
    "                    x_train_subset = x_train_words[:n_samples]\n",
    "                    y_train_subset = y_train[:n_samples]\n",
    "\n",
    "                    X_train_subset_features = create_binary_feature_matrix(x_train_subset, vocabulary)\n",
    "\n",
    "                    # Train the model\n",
    "                    model = MultivariateBernoulliNB()\n",
    "                    model.fit(np.array(X_train_subset_features), np.array(y_train_subset))\n",
    "\n",
    "                     # Evaluate on the training set\n",
    "                    y_train_pred = model.predict(np.array(X_train_subset_features))\n",
    "                    train_precision.append(precision_score(y_train_subset, y_train_pred, pos_label=1))\n",
    "                    train_recall.append(recall_score(y_train_subset, y_train_pred, pos_label=1))\n",
    "                    train_f1.append(f1_score(y_train_subset, y_train_pred, pos_label=1))\n",
    "\n",
    "                    # Evaluate on the development set\n",
    "                    y_dev_pred = model.predict(np.array(X_dev_features))\n",
    "                    dev_precision.append(precision_score(y_dev, y_dev_pred, pos_label=1))\n",
    "                    dev_recall.append(recall_score(y_dev, y_dev_pred, pos_label=1))\n",
    "                    dev_f1.append(f1_score(y_dev, y_dev_pred, pos_label=1))\n",
    "\n",
    "                    print(f\"Train size: {size * 100}%, Dev F1: {dev_f1[-1]}\")\n",
    "\n",
    "                    # Update best parameters if current F1 score is better\n",
    "                    if dev_f1[-1] > best_f1:\n",
    "                        best_f1 = dev_f1[-1]\n",
    "                        best_params = {\"m\": m, \"n\": n, \"k\": k}\n",
    "                        best_train_size = size\n",
    "                        best_metrics[\"train_precision\"] = train_precision\n",
    "                        best_metrics[\"train_recall\"] = train_recall\n",
    "                        best_metrics[\"train_f1\"] = train_f1\n",
    "                        best_metrics[\"dev_precision\"] = dev_precision\n",
    "                        best_metrics[\"dev_recall\"] = dev_recall\n",
    "                        best_metrics[\"dev_f1\"] = dev_f1\n",
    "\n",
    "    print(f\"Best parameters: {best_params}\")\n",
    "    print(f\"Best train size: {best_train_size * 100}%\")\n",
    "    print(f\"Best Dev F1: {best_f1}\")\n",
    "\n",
    "    return best_params, best_train_size, train_precision, train_recall, train_f1, dev_precision, dev_recall, dev_f1, best_metrics\n"
   ]
  },
  {
   "cell_type": "code",
   "execution_count": 24,
   "id": "c8ec90d1-36fa-42c4-8b4a-3bd2918d4891",
   "metadata": {},
   "outputs": [],
   "source": [
    "#Define hyperparameters and train sizes to test\n",
    "m_values = [1000]  # Number of words to select\n",
    "n_values = [100, 150, 200]     # Number of most frequent words to remove\n",
    "k_values = [500]      # Number of least frequent words to remove\n",
    "train_sizes = [0.1, 0.2, 0.5]  # Percentage of training data to use\n"
   ]
  },
  {
   "cell_type": "code",
   "execution_count": 159,
   "id": "3b6cd51f-a2a3-47e7-ac7b-4a70acb00a3d",
   "metadata": {},
   "outputs": [
    {
     "name": "stdout",
     "output_type": "stream",
     "text": [
      "Testing m=1000, n=100, k=500\n",
      "Train size: 10.0%, Dev F1: 0.8049760765550239\n",
      "Train size: 20.0%, Dev F1: 0.8085271317829458\n",
      "Train size: 50.0%, Dev F1: 0.8129454825659795\n",
      "Testing m=1000, n=150, k=500\n",
      "Train size: 10.0%, Dev F1: 0.802065404475043\n",
      "Train size: 20.0%, Dev F1: 0.7931370637551179\n",
      "Train size: 50.0%, Dev F1: 0.8006206361520558\n",
      "Testing m=1000, n=200, k=500\n",
      "Train size: 10.0%, Dev F1: 0.7898356897210547\n",
      "Train size: 20.0%, Dev F1: 0.7811209439528024\n",
      "Train size: 50.0%, Dev F1: 0.7893812219402694\n",
      "Best parameters: {'m': 1000, 'n': 100, 'k': 500}\n",
      "Best train size: 50.0%\n",
      "Best Dev F1: 0.8129454825659795\n"
     ]
    }
   ],
   "source": [
    "# Run the training-development loop\n",
    "best_params, best_train_size, train_precision, train_recall, train_f1, dev_precision, dev_recall, dev_f1, best_metrics = train_dev_loop(x_train_words, y_train, x_dev_words, y_dev, m_values, n_values, k_values, train_sizes)\n"
   ]
  },
  {
   "cell_type": "markdown",
   "id": "4605ec96-f542-4874-965c-d34bd0926c26",
   "metadata": {},
   "source": [
    "<h3 style=color:blue>Retrain the model using best parameters and full training dataset size</h3>"
   ]
  },
  {
   "cell_type": "code",
   "execution_count": 18,
   "id": "ccce39e2-0675-43fd-a21a-7e6e286f90b1",
   "metadata": {},
   "outputs": [],
   "source": [
    "best_params = {\"m\": 1000, \"n\": 100, \"k\": 500}\n",
    "best_train_size = 0.5"
   ]
  },
  {
   "cell_type": "code",
   "execution_count": null,
   "id": "6c033060-5b3a-490c-95f6-7b9ad81ba85b",
   "metadata": {},
   "outputs": [],
   "source": [
    "# Rebuild the vocabulary with the best parameters\n",
    "vocabulary = build_vocabulary(x_train_words, y_train, best_params['n'], best_params['k'], best_params['m'])\n",
    "\n",
    "# Convert the entire training set into binary features\n",
    "X_train_features = create_binary_feature_matrix(x_train_words, vocabulary)\n",
    "\n",
    "# Convert the test/dev set into binary features\n",
    "X_dev_features = create_binary_feature_matrix(x_dev_words, vocabulary)"
   ]
  },
  {
   "cell_type": "code",
   "execution_count": 41,
   "id": "4e7beb5d-3915-4317-a47a-7acc8bc00830",
   "metadata": {},
   "outputs": [
    {
     "name": "stdout",
     "output_type": "stream",
     "text": [
      "Training with parameters: {'m': 1000, 'n': 100, 'k': 500}\n",
      "Train size: 100%\n",
      "Precision: 0.8138739618954568\n",
      "Recall: 0.838281171379692\n",
      "F1: 0.8258972833630776\n"
     ]
    }
   ],
   "source": [
    "# Train the model on the full dataset\n",
    "model = MultivariateBernoulliNB()\n",
    "model.fit(np.array(X_train_features), np.array(y_train))\n",
    "\n",
    "y_train_pred = model.predict(np.array(X_train_features))\n",
    "full_train_precision = precision_score(y_train, y_train_pred, pos_label=1)\n",
    "full_train_recall = recall_score(y_train, y_train_pred, pos_label=1)\n",
    "full_train_f1 = f1_score(y_train, y_train_pred, pos_label=1)\n",
    "\n",
    "print(f\"Training with parameters: {best_params}\")\n",
    "print(\"Train size: 100%\")\n",
    "print(f\"Precision: {full_train_precision}\")\n",
    "print(f\"Recall: {full_train_recall}\")\n",
    "print(f\"F1: {full_train_f1}\")"
   ]
  },
  {
   "cell_type": "code",
   "execution_count": 47,
   "id": "5936ab96-6414-4368-a7ef-ab31edcddcff",
   "metadata": {},
   "outputs": [
    {
     "name": "stdout",
     "output_type": "stream",
     "text": [
      "Development:\n",
      "Precision: 0.8042744656917885\n",
      "Recall: 0.8369098712446352\n",
      "F1: 0.8202676864244742\n"
     ]
    }
   ],
   "source": [
    "y_dev_pred = model.predict(np.array(X_dev_features))\n",
    "dev_precision = precision_score(y_dev, y_dev_pred, pos_label=1)\n",
    "dev_recall = recall_score(y_dev, y_dev_pred, pos_label=1)\n",
    "dev_f1 = f1_score(y_dev, y_dev_pred, pos_label=1)\n",
    "print(\"Development:\")\n",
    "print(f\"Precision: {dev_precision}\")\n",
    "print(f\"Recall: {dev_recall}\")\n",
    "print(f\"F1: {dev_f1}\")"
   ]
  },
  {
   "cell_type": "code",
   "execution_count": 49,
   "id": "b4c10784-4840-4b27-842a-27bb753396df",
   "metadata": {},
   "outputs": [],
   "source": [
    "X_test_features = create_binary_feature_matrix(x_test_words, vocabulary)\n",
    "y_test_pred = model.predict(np.array(X_test_features))"
   ]
  },
  {
   "cell_type": "code",
   "execution_count": 79,
   "id": "413ec0ac-d986-4fc3-a1cb-ac29a329245a",
   "metadata": {},
   "outputs": [
    {
     "name": "stdout",
     "output_type": "stream",
     "text": [
      "Test Set Evaluation:\n",
      "              precision    recall  f1-score   support\n",
      "\n",
      "    Negative       0.81      0.80      0.81     12500\n",
      "    Positive       0.80      0.81      0.81     12500\n",
      "\n",
      "    accuracy                           0.81     25000\n",
      "   macro avg       0.81      0.81      0.81     25000\n",
      "weighted avg       0.81      0.81      0.81     25000\n",
      "\n",
      "Micro-Averaged Precision: 0.8066\n",
      "Micro-Averaged Recall: 0.8066\n",
      "Micro-Averaged F1: 0.8066\n",
      "Macro-Averaged Precision: 0.8066534312938687\n",
      "Macro-Averaged Recall: 0.8066\n",
      "Macro-Averaged F1: 0.8065915751290127\n"
     ]
    }
   ],
   "source": [
    "print(\"Test Set Evaluation:\")\n",
    "print(classification_report(y_test, y_test_pred, target_names=[\"Negative\", \"Positive\"]))\n",
    "\n",
    "# Micro- and macro-averaged metrics\n",
    "micro_precision = precision_score(y_test, y_test_pred, average=\"micro\")\n",
    "micro_recall = recall_score(y_test, y_test_pred, average=\"micro\")\n",
    "micro_f1 = f1_score(y_test, y_test_pred, average=\"micro\")\n",
    "\n",
    "macro_precision = precision_score(y_test, y_test_pred, average=\"macro\")\n",
    "macro_recall = recall_score(y_test, y_test_pred, average=\"macro\")\n",
    "macro_f1 = f1_score(y_test, y_test_pred, average=\"macro\")\n",
    "\n",
    "print(f\"Micro-Averaged Precision: {micro_precision}\")\n",
    "print(f\"Micro-Averaged Recall: {micro_recall}\")\n",
    "print(f\"Micro-Averaged F1: {micro_f1}\")\n",
    "print(f\"Macro-Averaged Precision: {macro_precision}\")\n",
    "print(f\"Macro-Averaged Recall: {macro_recall}\")\n",
    "print(f\"Macro-Averaged F1: {macro_f1}\")"
   ]
  },
  {
   "cell_type": "code",
   "execution_count": 81,
   "id": "d0b4d57a-5e26-494e-b508-8ee511c93cb3",
   "metadata": {},
   "outputs": [
    {
     "data": {
      "image/png": "[encoded data removed]",
      "text/plain": [
       "<Figure size 600x500 with 1 Axes>"
      ]
     },
     "metadata": {},
     "output_type": "display_data"
    }
   ],
   "source": [
    "import matplotlib.pyplot as plt\n",
    "\n",
    "classes = [\"Negative\", \"Positive\"]\n",
    "precision = [0.81, 0.80]\n",
    "recall = [0.80, 0.81]\n",
    "\n",
    "x = np.arange(len(classes)) \n",
    "width = 0.3 \n",
    "\n",
    "fig, ax = plt.subplots(figsize=(6, 5))\n",
    "ax.bar(x - width/2, precision, width, label='Precision', color='blue')\n",
    "ax.bar(x + width/2, recall, width, label='Recall', color='orange')\n",
    "\n",
    "ax.set_xlabel(\"Sentiment Class\")\n",
    "ax.set_ylabel(\"Score\")\n",
    "ax.set_title(\"Precision vs Recall (Test Set)\")\n",
    "ax.set_xticks(x)\n",
    "ax.set_xticklabels(classes)\n",
    "ax.legend()\n",
    "ax.grid(axis='y')\n",
    "\n",
    "plt.show()"
   ]
  },
  {
   "cell_type": "code",
   "execution_count": 83,
   "id": "f52eb49c-e030-4439-83ea-b58eca691916",
   "metadata": {},
   "outputs": [
    {
     "name": "stdout",
     "output_type": "stream",
     "text": [
      "         Category  Precision  Recall  F1 Score\n",
      "0        Negative   0.810000  0.8000  0.810000\n",
      "1        Positive   0.800000  0.8100  0.810000\n",
      "2  Micro-Averaged   0.806600  0.8066  0.806600\n",
      "3  Macro-Averaged   0.806653  0.8066  0.806592\n"
     ]
    }
   ],
   "source": [
    "import pandas as pd\n",
    "\n",
    "data = {\n",
    "    \"Category\": [\"Negative\", \"Positive\", \"Micro-Averaged\", \"Macro-Averaged\"],\n",
    "    \"Precision\": [0.81, 0.80, 0.8066, 0.8066534312938687],  \n",
    "    \"Recall\": [0.80, 0.81, 0.8066, 0.8066],    \n",
    "    \"F1 Score\": [0.81, 0.81, 0.8066, 0.8065915751290127]    \n",
    "}\n",
    "\n",
    "df_results = pd.DataFrame(data)\n",
    "\n",
    "print(df_results)"
   ]
  },
  {
   "cell_type": "markdown",
   "id": "cfa9bec8-2529-4af5-9ce0-7ccad4da9e6c",
   "metadata": {},
   "source": [
    "Performance across classes: the values indicate that the model performs similarly on both classes <br>\n",
    "without favoring one over another. <br>\n",
    "Micro-Averaged scores: treats all instances equally without bias <br>\n",
    "Macro-Averaged scores: average metrics independantly per class"
   ]
  },
  {
   "cell_type": "markdown",
   "id": "7a13bb68-5e74-4c13-bcc4-9ab2330d1732",
   "metadata": {},
   "source": [
    "<h3 style=color:blue> PART B</h3>"
   ]
  },
  {
   "cell_type": "code",
   "execution_count": 87,
   "id": "2c9bf59d-b6d1-4949-a856-b84b754a634e",
   "metadata": {},
   "outputs": [
    {
     "name": "stdout",
     "output_type": "stream",
     "text": [
      "BernoulliNB (Scikit-learn):\n",
      "              precision    recall  f1-score   support\n",
      "\n",
      "           0       0.83      0.78      0.80     12500\n",
      "           1       0.79      0.83      0.81     12500\n",
      "\n",
      "    accuracy                           0.81     25000\n",
      "   macro avg       0.81      0.81      0.81     25000\n",
      "weighted avg       0.81      0.81      0.81     25000\n",
      "\n"
     ]
    }
   ],
   "source": [
    "from sklearn.naive_bayes import BernoulliNB\n",
    "bnb = BernoulliNB()\n",
    "bnb.fit(X_train_features, y_train)\n",
    "y_pred_bnb = bnb.predict(X_test_features)\n",
    "print(\"BernoulliNB (Scikit-learn):\")\n",
    "print(classification_report(y_test, y_pred_bnb))"
   ]
  },
  {
   "cell_type": "code",
   "execution_count": 89,
   "id": "8db5faf7-d56c-45d6-9877-dda8ccff2e60",
   "metadata": {},
   "outputs": [
    {
     "data": {
      "image/png": "[encoded data removed]",
      "text/plain": [
       "<Figure size 1400x800 with 1 Axes>"
      ]
     },
     "metadata": {},
     "output_type": "display_data"
    }
   ],
   "source": [
    "categories = ['Negative', 'Positive', 'Micro-Averaged', 'Macro-Averaged']\n",
    "\n",
    "custom_precision = [0.810, 0.800, 0.8066, 0.806653]\n",
    "custom_recall = [0.800, 0.810, 0.8066, 0.8066]\n",
    "custom_f1 = [0.810, 0.810, 0.8066, 0.806592]\n",
    "\n",
    "\n",
    "sklearn_precision = [0.83, 0.79, 0.81, 0.81]\n",
    "sklearn_recall = [0.78, 0.83, 0.81, 0.81]\n",
    "sklearn_f1 = [0.80, 0.81, 0.81, 0.81]\n",
    "\n",
    "bar_width = 0.15 \n",
    "index = np.arange(len(categories))\n",
    "\n",
    "fig, ax = plt.subplots(figsize=(14, 8))\n",
    "\n",
    "bar1 = ax.bar(index - 2.5 * bar_width, custom_precision, bar_width, label='Custom Model Precision', color='b')\n",
    "bar2 = ax.bar(index - 1.5 * bar_width, sklearn_precision, bar_width, label='Scikit-learn Precision', color='g')\n",
    "\n",
    "bar3 = ax.bar(index - 0.5 * bar_width, custom_recall, bar_width, label='Custom Model Recall', color='b', alpha=0.6)\n",
    "bar4 = ax.bar(index + 0.5 * bar_width, sklearn_recall, bar_width, label='Scikit-learn Recall', color='g', alpha=0.6)\n",
    "\n",
    "bar5 = ax.bar(index + 1.5 * bar_width, custom_f1, bar_width, label='Custom Model F1', color='b', alpha=0.3)\n",
    "bar6 = ax.bar(index + 2.5 * bar_width, sklearn_f1, bar_width, label='Scikit-learn F1', color='g', alpha=0.3)\n",
    "\n",
    "ax.set_xlabel('Categories')\n",
    "ax.set_ylabel('Scores')\n",
    "ax.set_title('Comparison of Custom Model and Scikit-learn BernoulliNB')\n",
    "\n",
    "ax.set_xticks(index)\n",
    "ax.set_xticklabels(categories)\n",
    "ax.set_xlim(-0.5, len(categories) - 0.5) \n",
    "\n",
    "ax.legend()\n",
    "plt.tight_layout()\n",
    "plt.show()"
   ]
  },
  {
   "cell_type": "markdown",
   "id": "3095ac06-6961-4904-9541-8af1afa7b4ce",
   "metadata": {},
   "source": [
    "<h2 style=color:blue>PART C</h2>"
   ]
  },
  {
   "cell_type": "code",
   "execution_count": 94,
   "id": "96387f1a-cdd3-4660-936f-47e40259f7ad",
   "metadata": {},
   "outputs": [],
   "source": [
    "import torch\n",
    "import torch.nn as nn\n",
    "import torch.optim as optim\n",
    "\n",
    "class BiLSTM_RNN(nn.Module):\n",
    "    def __init__(self, vocab_size, embed_size=64, hidden_size=64, num_layers=1, dropout=0.2, pre_trained_embeddings=None):\n",
    "        super(BiLSTM_RNN, self).__init__()\n",
    "\n",
    "        # Word Embedding layer\n",
    "        if pre_trained_embeddings is not None:\n",
    "            # If pre-trained embeddings are given, use them\n",
    "            self.embedding = nn.Embedding.from_pretrained(pre_trained_embeddings, freeze=False)\n",
    "        else:\n",
    "            # Otherwise, use randomly initialized embeddings\n",
    "            self.embedding = nn.Embedding(vocab_size, embed_size)\n",
    "\n",
    "        # Stacked Bidirectional LSTM layers\n",
    "        self.lstm = nn.LSTM(input_size=embed_size,\n",
    "                            hidden_size=hidden_size,\n",
    "                            num_layers=num_layers,\n",
    "                            batch_first=True,\n",
    "                            dropout=dropout,\n",
    "                            bidirectional=True)\n",
    "\n",
    "        # Global Max Pooling layer (max pooling across the entire sequence)\n",
    "        self.pooling = nn.AdaptiveMaxPool1d(1)\n",
    "\n",
    "        # Fully connected output layer\n",
    "        self.fc = nn.Linear(hidden_size * 2, 1)  # *2 for bidirectional\n",
    "\n",
    "        # Sigmoid for binary classification\n",
    "        self.sigmoid = nn.Sigmoid()\n",
    "\n",
    "    def forward(self, x):\n",
    "        # Embedding layer\n",
    "        x = self.embedding(x)\n",
    "        \n",
    "        # LSTM layer\n",
    "        lstm_out, _ = self.lstm(x)\n",
    "        \n",
    "        # Apply Global Max Pooling across the sequence length (dimension 1)\n",
    "        lstm_out = lstm_out.permute(0, 2, 1)  # Shape (batch_size, hidden_dim*2, seq_len)\n",
    "        pooled_out = self.pooling(lstm_out).squeeze(2)  # Shape (batch_size, hidden_dim*2)\n",
    "\n",
    "        # Pass through the fully connected layer\n",
    "        out = self.fc(pooled_out)\n",
    "\n",
    "        # Apply sigmoid for binary classification\n",
    "        out = self.sigmoid(out)\n",
    "        return out\n",
    "\n",
    "def train_model(model, train_loader, val_loader, epochs=10, lr=1e-3):\n",
    "    criterion = nn.BCELoss()  # Binary Cross-Entropy Loss\n",
    "    optimizer = optim.Adam(model.parameters(), lr=lr)\n",
    "\n",
    "    for epoch in range(epochs):\n",
    "        model.train()\n",
    "        total_loss = 0\n",
    "        correct_preds = 0\n",
    "        total_preds = 0\n",
    "\n",
    "        for texts, labels in train_loader:\n",
    "            optimizer.zero_grad()\n",
    "\n",
    "            # Forward pass\n",
    "            outputs = model(texts)\n",
    "            loss = criterion(outputs.squeeze(), labels.float())  # Squeeze for binary output\n",
    "            loss.backward()\n",
    "            optimizer.step()\n",
    "\n",
    "            total_loss += loss.item()\n",
    "\n",
    "            # Calculate predictions\n",
    "            preds = (outputs.squeeze() > 0.5).long()\n",
    "            correct_preds += (preds == labels).sum().item()\n",
    "            total_preds += labels.size(0)\n",
    "\n",
    "        accuracy = correct_preds / total_preds\n",
    "        print(f\"Epoch {epoch + 1}/{epochs}, Loss: {total_loss/len(train_loader)}, Accuracy: {accuracy*100:.2f}%\")\n",
    "\n",
    "        # Evaluate on validation data\n",
    "        model.eval()\n",
    "        val_loss = 0\n",
    "        correct_preds = 0\n",
    "        total_preds = 0\n",
    "        with torch.no_grad():\n",
    "            for texts, labels in val_loader:\n",
    "                outputs = model(texts)\n",
    "                loss = criterion(outputs.squeeze(), labels.float())\n",
    "                val_loss += loss.item()\n",
    "\n",
    "                preds = (outputs.squeeze() > 0.5).long()\n",
    "                correct_preds += (preds == labels).sum().item()\n",
    "                total_preds += labels.size(0)\n",
    "\n",
    "        val_accuracy = correct_preds / total_preds\n",
    "        print(f\"Validation Loss: {val_loss/len(val_loader)}, Validation Accuracy: {val_accuracy*100:.2f}%\")\n",
    "\n",
    "def predict_sentiment(model, test_loader):\n",
    "    model.eval()\n",
    "    predictions = []\n",
    "    with torch.no_grad():\n",
    "        for texts, _ in test_loader:\n",
    "            outputs = model(texts)\n",
    "            preds = (outputs.squeeze() > 0.5).long()\n",
    "            predictions.extend(preds.cpu().numpy())\n",
    "    return predictions\n",
    "\n"
   ]
  },
  {
   "cell_type": "code",
   "execution_count": 1,
   "id": "159c6975-d8d4-4016-bfe1-6361aa91f181",
   "metadata": {},
   "outputs": [],
   "source": [
    "def create_embedding_matrix(vocab, model, embed_size=100):\n",
    "    \"\"\"\n",
    "    Create an embedding matrix where each word in the vocab is replaced with its word2vec vector.\n",
    "\n",
    "    :param vocab: A dictionary of word to index.\n",
    "    :param model: The pre-trained word2vec model.\n",
    "    :param embed_size: Size of the word embeddings.\n",
    "    :return: Embedding matrix of shape (vocab_size, embed_size).\n",
    "    \"\"\"\n",
    "    embedding_matrix = np.zeros((len(vocab), embed_size))\n",
    "\n",
    "    for word, idx in vocab.items():\n",
    "        if word in model:\n",
    "            embedding_matrix[idx] = model[word]\n",
    "        else:\n",
    "            embedding_matrix[idx] = np.random.normal(scale=0.6, size=(embed_size,))\n",
    "    return torch.tensor(embedding_matrix, dtype=torch.float)\n"
   ]
  },
  {
   "cell_type": "code",
   "execution_count": null,
   "id": "337596a9-7cbf-407c-8b9f-bf79cfb7dbda",
   "metadata": {},
   "outputs": [],
   "source": []
  }
 ],
 "metadata": {
  "kernelspec": {
   "display_name": "Python [conda env:base] *",
   "language": "python",
   "name": "conda-base-py"
  },
  "language_info": {
   "codemirror_mode": {
    "name": "ipython",
    "version": 3
   },
   "file_extension": ".py",
   "mimetype": "text/x-python",
   "name": "python",
   "nbconvert_exporter": "python",
   "pygments_lexer": "ipython3",
   "version": "3.12.7"
  }
 },
 "nbformat": 4,
 "nbformat_minor": 5
}
